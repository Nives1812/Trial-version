{
 "cells": [
  {
   "cell_type": "raw",
   "id": "1ca304a8",
   "metadata": {},
   "source": [
    "1. In the below elements which of them are values or an expression? eg:- values can be integer or string and expressions will be mathematical operators.\n",
    "*  \t - Mathematical operator\n",
    "'hello'\t-string\n",
    "-87.8 \t- negative integer\n",
    "-  \t- Mathematical operator\n",
    "/ \t- Mathematical operator\n",
    "+\t- Mathematical operator\n",
    "6 \t- integer\n"
   ]
  },
  {
   "cell_type": "code",
   "execution_count": null,
   "id": "c6a5729e",
   "metadata": {},
   "outputs": [],
   "source": [
    "2. What is the difference between string and variable?\n",
    "String is a collection of one or more characters with in single/double/triple quotes, as characters are not recognized. A string can be a name or comment or instruction or integer with in quotes.\n",
    "Variable is a letter/word which can have some assigned values. And the values can by itself be any datatype. Eg: a= 10, b = “apple” etc.\n"
   ]
  },
  {
   "cell_type": "code",
   "execution_count": null,
   "id": "cf38f7eb",
   "metadata": {},
   "outputs": [],
   "source": [
    "3. Describe three different data types.\n",
    "a) Numeric data type: This data type includes all numeric value datatype. Numeric datatype includes integer(positive and negative numeric values without decimal value), float (numeric values with decimal values) and complex numbers(combination of numbers that includes real part and an imaginary part).\n",
    "b) Sequence type: This data type is the ordered collection of same or different datatype. String(collection of one or more characters with in single/double/triple quotes), List(ordered collection of data, it can have same or different datatyoes) and Tuple(same as list but they are immutable) belongs to sequence type.\n",
    "c)Set: Set is a collection of underordered data. The order of elements in set is not defined. Set has no duplicate elements, it is iterable and mutable."
   ]
  },
  {
   "cell_type": "code",
   "execution_count": null,
   "id": "229b86f1",
   "metadata": {},
   "outputs": [],
   "source": [
    "4. What is an expression made up of? What do all expressions do?\n",
    "An expression is made of variables, operators, values and calls to function. The values, variables and operators in combinations give us an output/result. The expression is evaluated based on the precedence of its operators."
   ]
  },
  {
   "cell_type": "code",
   "execution_count": null,
   "id": "af0db9a0",
   "metadata": {},
   "outputs": [],
   "source": [
    "5. This assignment statements, like spam = 10. What is the difference between an expression and a statement?\n",
    "If the word spam has been assigned with value of 10, when we try to print spam it returns 10 when it is an expression (i.e expression returns the value of the variable spam). Expression is a combination of values, variables and operators that always returns an output.\n",
    "Any instructions given by the interpreter to python is called statement. The given assignment statement spam = 10 does not return any values, it is the smallest executable unit in the code that has an effect like creating a variable or displaying a value. All statement need not necessarily return an output."
   ]
  },
  {
   "cell_type": "code",
   "execution_count": null,
   "id": "a5f4a4d9",
   "metadata": {},
   "outputs": [],
   "source": [
    "6. After running the following code, what does the variable bacon contain?\n",
    "bacon = 22\n",
    "bacon + 1\n",
    "The bacon variable after execution will have the value as 23."
   ]
  },
  {
   "cell_type": "code",
   "execution_count": null,
   "id": "42744c58",
   "metadata": {},
   "outputs": [],
   "source": [
    "7. What should the values of the following two terms be?\n",
    "'spam' + 'spamspam' - spamspamspam\n",
    "'spam' * 3 – spamspamspam\n",
    "Both on execution will have the same output."
   ]
  },
  {
   "cell_type": "code",
   "execution_count": null,
   "id": "5cbaee4e",
   "metadata": {},
   "outputs": [],
   "source": [
    "8. Why is eggs a valid variable name while 100 is invalid?\n",
    "Variables in python can have alphabets (upper and lower case sensitive), underscore and alpha-numeric combinations. However, the variable should not start with a number and hence it is an invalid variable."
   ]
  },
  {
   "cell_type": "code",
   "execution_count": null,
   "id": "c943b6d7",
   "metadata": {},
   "outputs": [],
   "source": [
    "9. What three functions can be used to get the integer, floating-point number, or string version of a value?\n",
    "Int(), float() and str()"
   ]
  },
  {
   "cell_type": "code",
   "execution_count": null,
   "id": "cbb707bd",
   "metadata": {},
   "outputs": [],
   "source": [
    "10. Why does this expression cause an error? How can you fix it?\n",
    "'I have eaten ' + 99 + ' burritos.'\n",
    "String and integer datatype cannot be appended using the “+” operator directly. If the integer datatype is converted to string the expression can be executed (eg: if 99 is written with in single/double quotes)"
   ]
  }
 ],
 "metadata": {
  "kernelspec": {
   "display_name": "Python 3 (ipykernel)",
   "language": "python",
   "name": "python3"
  },
  "language_info": {
   "codemirror_mode": {
    "name": "ipython",
    "version": 3
   },
   "file_extension": ".py",
   "mimetype": "text/x-python",
   "name": "python",
   "nbconvert_exporter": "python",
   "pygments_lexer": "ipython3",
   "version": "3.9.7"
  }
 },
 "nbformat": 4,
 "nbformat_minor": 5
}
